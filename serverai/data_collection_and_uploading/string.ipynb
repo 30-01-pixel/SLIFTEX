{
 "cells": [
  {
   "cell_type": "code",
   "execution_count": 1,
   "metadata": {},
   "outputs": [],
   "source": [
    "import numpy as np \n",
    "import pandas as pd"
   ]
  },
  {
   "cell_type": "code",
   "execution_count": 2,
   "metadata": {},
   "outputs": [
    {
     "name": "stdout",
     "output_type": "stream",
     "text": [
      "              TITLE\n",
      "0      SHIKSHNETTAR\n",
      "1   SHRAMIK MIMANSA\n",
      "2              .GUT\n",
      "3             A & D\n",
      "4        A &S INDIA\n"
     ]
    }
   ],
   "source": [
    "import pandas as pd\n",
    "\n",
    "# Load the Excel sheet\n",
    "df = pd.read_csv('filtered_titles.csv')\n",
    "\n",
    "# Keep only the second column and drop the first row\n",
    "df = df.iloc[1:, [1]]  # Skip the first row, keep second column\n",
    "\n",
    "# Optional: Reset index\n",
    "df = df.reset_index(drop=True)\n",
    "\n",
    "print(df.head())\n"
   ]
  },
  {
   "cell_type": "code",
   "execution_count": 3,
   "metadata": {},
   "outputs": [
    {
     "name": "stdout",
     "output_type": "stream",
     "text": [
      "              title\n",
      "0      SHIKSHNETTAR\n",
      "1   SHRAMIK MIMANSA\n",
      "2              .GUT\n",
      "3             A & D\n",
      "4        A &S INDIA\n"
     ]
    }
   ],
   "source": [
    "# Optional: Rename column for clarity\n",
    "df.columns = ['title']\n",
    "print(df.head())"
   ]
  },
  {
   "cell_type": "code",
   "execution_count": 4,
   "metadata": {},
   "outputs": [
    {
     "name": "stdout",
     "output_type": "stream",
     "text": [
      "              title\n",
      "0      SHIKSHNETTAR\n",
      "1   SHRAMIK MIMANSA\n",
      "2          'M'TIMES\n",
      "3              .GUT\n",
      "4             A & D\n"
     ]
    }
   ],
   "source": [
    "# Convert the column to string for uniform sorting\n",
    "df[df.columns[0]] = df[df.columns[0]].astype(str)\n",
    "\n",
    "# Now sort safely\n",
    "df = df.sort_values(by=df.columns[0], ascending=True)\n",
    "\n",
    "# Reset index (optional)\n",
    "df = df.reset_index(drop=True)\n",
    "\n",
    "print(df.head())\n"
   ]
  },
  {
   "cell_type": "code",
   "execution_count": 5,
   "metadata": {},
   "outputs": [],
   "source": [
    "df = df.iloc[:50000].reset_index(drop=True)\n"
   ]
  },
  {
   "cell_type": "code",
   "execution_count": 6,
   "metadata": {},
   "outputs": [
    {
     "name": "stdout",
     "output_type": "stream",
     "text": [
      "(50000, 1)\n"
     ]
    }
   ],
   "source": [
    "print(df.shape)"
   ]
  },
  {
   "cell_type": "code",
   "execution_count": 9,
   "metadata": {},
   "outputs": [
    {
     "name": "stdout",
     "output_type": "stream",
     "text": [
      "(50000, 1)\n"
     ]
    }
   ],
   "source": [
    "df.dropna(inplace=True)\n",
    "\n",
    "print(df.shape)"
   ]
  },
  {
   "cell_type": "code",
   "execution_count": 10,
   "metadata": {},
   "outputs": [
    {
     "name": "stdout",
     "output_type": "stream",
     "text": [
      "{'a': 4, 'b': 13856, 'c': 22345, 'd': 28777, 'e': 35583, 'f': 37649, 'g': 39387, 'h': 44621, 'i': 49178}\n"
     ]
    }
   ],
   "source": [
    "# Assuming df is sorted and has one column\n",
    "column_name = df.columns[0]\n",
    "\n",
    "# Convert all to lowercase\n",
    "df[column_name] = df[column_name].astype(str).str.lower()\n",
    "\n",
    "# Use dict as a map data structure\n",
    "alphabet_index_map: dict[str, int] = {}\n",
    "\n",
    "# Build the map\n",
    "for idx, value in enumerate(df[column_name]):\n",
    "    first_char = value[0]\n",
    "    if first_char.isalpha() and first_char not in alphabet_index_map:\n",
    "        alphabet_index_map[first_char] = idx\n",
    "\n",
    "print(alphabet_index_map)\n"
   ]
  },
  {
   "cell_type": "code",
   "execution_count": 11,
   "metadata": {},
   "outputs": [
    {
     "name": "stderr",
     "output_type": "stream",
     "text": [
      "[nltk_data] Downloading package stopwords to\n",
      "[nltk_data]     C:\\Users\\Debanjan/nltk_data...\n",
      "[nltk_data]   Package stopwords is already up-to-date!\n",
      "[nltk_data] Downloading package punkt to\n",
      "[nltk_data]     C:\\Users\\Debanjan/nltk_data...\n",
      "[nltk_data]   Package punkt is already up-to-date!\n"
     ]
    }
   ],
   "source": [
    "import pandas as pd\n",
    "from nltk.corpus import stopwords\n",
    "from nltk.tokenize import word_tokenize\n",
    "import string\n",
    "\n",
    "# Download stopwords if not already done\n",
    "import nltk\n",
    "nltk.download('stopwords')\n",
    "nltk.download('punkt')\n",
    "\n",
    "# Get English stopwords\n",
    "stop_words = set(stopwords.words('english'))\n",
    "\n",
    "# Function to clean text by removing stopwords and punctuation\n",
    "def clean_text(text):\n",
    "    if pd.isnull(text):\n",
    "        return \"\"\n",
    "    # Tokenize text into words\n",
    "    tokens = word_tokenize(text)\n",
    "    # Convert to lowercase and remove punctuation and stopwords\n",
    "    cleaned = [\n",
    "        word.lower() for word in tokens\n",
    "        if word.lower() not in stop_words and word not in string.punctuation\n",
    "    ]\n",
    "    return \"\".join(cleaned)  # Return as a single string for n-gram generation"
   ]
  },
  {
   "cell_type": "code",
   "execution_count": 12,
   "metadata": {},
   "outputs": [],
   "source": [
    "from langchain.text_splitter import RecursiveCharacterTextSplitter\n",
    "from langchain.schema import Document  # Import Document class\n",
    "\n",
    "data = df\n",
    "# Initialize the text splitter\n",
    "text_splitter = RecursiveCharacterTextSplitter(chunk_size=500, chunk_overlap=50)\n",
    "\n",
    "# Assuming your DataFrame `data` has a column 'title' containing the titles or documents\n",
    "# Create a list of Document objects\n",
    "documents = [Document(page_content=row['title']) for index, row in data.iterrows()]\n",
    "\n",
    "# Split the documents\n",
    "split_docs = text_splitter.split_documents(documents)"
   ]
  },
  {
   "cell_type": "code",
   "execution_count": 13,
   "metadata": {},
   "outputs": [],
   "source": [
    "# Extract content from split_docs\n",
    "texts = [doc.page_content for doc in split_docs]\n"
   ]
  },
  {
   "cell_type": "code",
   "execution_count": 14,
   "metadata": {},
   "outputs": [],
   "source": [
    "from langchain_ollama.embeddings import OllamaEmbeddings\n",
    "embeddings = OllamaEmbeddings(model =\"llama3.2\" )"
   ]
  },
  {
   "cell_type": "code",
   "execution_count": 15,
   "metadata": {},
   "outputs": [
    {
     "name": "stdout",
     "output_type": "stream",
     "text": [
      "3072\n"
     ]
    }
   ],
   "source": [
    "res = embeddings.embed_query(\"The Jagran Times\")\n",
    "print(len(res)) # checking the dimension of the embeddings so that the pinecone vector db can be configured accordingly "
   ]
  },
  {
   "cell_type": "code",
   "execution_count": 16,
   "metadata": {},
   "outputs": [],
   "source": [
    "from dotenv import load_dotenv\n",
    "load_dotenv()\n",
    "import os\n",
    "api_key = os.getenv(\"PINECONE_API_KEY\")"
   ]
  },
  {
   "cell_type": "code",
   "execution_count": 17,
   "metadata": {},
   "outputs": [],
   "source": [
    "from pinecone import Pinecone\n",
    "index_name = \"titles\"\n",
    "pc = Pinecone(api_key=api_key)\n",
    "index = pc.Index(index_name)\n",
    "# Setting up the pinecone index the index name in this case is llama "
   ]
  },
  {
   "cell_type": "code",
   "execution_count": 18,
   "metadata": {},
   "outputs": [
    {
     "name": "stderr",
     "output_type": "stream",
     "text": [
      "[nltk_data] Downloading package stopwords to\n",
      "[nltk_data]     C:\\Users\\Debanjan/nltk_data...\n",
      "[nltk_data]   Package stopwords is already up-to-date!\n",
      "[nltk_data] Downloading package punkt to\n",
      "[nltk_data]     C:\\Users\\Debanjan/nltk_data...\n",
      "[nltk_data]   Package punkt is already up-to-date!\n"
     ]
    },
    {
     "data": {
      "text/plain": [
       "True"
      ]
     },
     "execution_count": 18,
     "metadata": {},
     "output_type": "execute_result"
    }
   ],
   "source": [
    "import nltk\n",
    "nltk.download('stopwords' )\n",
    "nltk.download('punkt' )"
   ]
  },
  {
   "cell_type": "code",
   "execution_count": 31,
   "metadata": {},
   "outputs": [
    {
     "name": "stdout",
     "output_type": "stream",
     "text": [
      "                         title\n",
      "0                 shikshnettar\n",
      "1              shramik mimansa\n",
      "2                     'm'times\n",
      "3                         .gut\n",
      "4                        a & d\n",
      "...                        ...\n",
      "49995  india cultures quarters\n",
      "49996             india darpan\n",
      "49997             india darpan\n",
      "49998      india day and night\n",
      "49999            india debates\n",
      "\n",
      "[50000 rows x 1 columns]\n"
     ]
    }
   ],
   "source": [
    "print(data)"
   ]
  },
  {
   "cell_type": "code",
   "execution_count": 24,
   "metadata": {},
   "outputs": [
    {
     "name": "stderr",
     "output_type": "stream",
     "text": [
      "[nltk_data] Downloading package punkt to\n",
      "[nltk_data]     C:\\Users\\Debanjan/nltk_data...\n",
      "[nltk_data]   Package punkt is already up-to-date!\n",
      "[nltk_data] Downloading package stopwords to\n",
      "[nltk_data]     C:\\Users\\Debanjan/nltk_data...\n",
      "[nltk_data]   Package stopwords is already up-to-date!\n"
     ]
    },
    {
     "data": {
      "application/vnd.jupyter.widget-view+json": {
       "model_id": "0143d614ecb844d393ce67b77c8f3868",
       "version_major": 2,
       "version_minor": 0
      },
      "text/plain": [
       "  0%|          | 0/50000 [00:00<?, ?it/s]"
      ]
     },
     "metadata": {},
     "output_type": "display_data"
    }
   ],
   "source": [
    "from pinecone_text.sparse import BM25Encoder\n",
    "\n",
    "\n",
    "import nltk\n",
    "nltk.download('punkt')  # force correct download\n",
    "nltk.download('stopwords')\n",
    "\n",
    "# Initialize the BM25 encoder\n",
    "encoder = BM25Encoder().default()\n",
    "\n",
    "# Your data and BM25 encoding process\n",
    "# Ensure the data column is converted to a list of strings\n",
    "corpus = data['title'].tolist()  # Convert the column to a list\n",
    "\n",
    "# Fit the encoder\n",
    "encoder.fit(corpus)\n",
    "\n",
    "# Save the encoded data\n",
    "encoder.dump(\"document.json\")\n"
   ]
  },
  {
   "cell_type": "code",
   "execution_count": 25,
   "metadata": {},
   "outputs": [],
   "source": [
    "encoded_docs = BM25Encoder().load(\"document.json\")"
   ]
  },
  {
   "cell_type": "code",
   "execution_count": 27,
   "metadata": {},
   "outputs": [],
   "source": [
    "sparse_vectors = encoder.encode_documents(corpus)\n"
   ]
  },
  {
   "cell_type": "code",
   "execution_count": 28,
   "metadata": {},
   "outputs": [],
   "source": [
    "from langchain_community.retrievers import PineconeHybridSearchRetriever\n",
    "retriever = PineconeHybridSearchRetriever(index=index, sparse_encoder=encoded_docs, embeddings=embeddings , top_k=30 , alpha = 0.8)"
   ]
  },
  {
   "cell_type": "code",
   "execution_count": 35,
   "metadata": {},
   "outputs": [
    {
     "data": {
      "application/vnd.jupyter.widget-view+json": {
       "model_id": "4664cb2dc1f543cf83b21cc8109dbda7",
       "version_major": 2,
       "version_minor": 0
      },
      "text/plain": [
       "  0%|          | 0/49989 [00:00<?, ?it/s]"
      ]
     },
     "metadata": {},
     "output_type": "display_data"
    },
    {
     "data": {
      "application/vnd.jupyter.widget-view+json": {
       "model_id": "9e129bbf1cc44b1e9bf054d5227dd16e",
       "version_major": 2,
       "version_minor": 0
      },
      "text/plain": [
       "  0%|          | 0/1563 [00:00<?, ?it/s]"
      ]
     },
     "metadata": {},
     "output_type": "display_data"
    }
   ],
   "source": [
    "\n",
    "corpus = data['title'].astype(str).str.strip().str.lower().tolist()\n",
    "\n",
    "# Initialize and prepare encoder\n",
    "encoder = BM25Encoder().default()\n",
    "\n",
    "# Filter out texts with no valid BM25 sparse tokens\n",
    "def is_valid_bm25(text):\n",
    "    if not text or not any(c.isalpha() for c in text):  # must contain letters\n",
    "        return False\n",
    "    encoded = encoder.encode_queries([text])[0]\n",
    "    return len(encoded['indices']) > 0\n",
    "\n",
    "# Filter corpus\n",
    "filtered_corpus = [text for text in corpus if is_valid_bm25(text)]\n",
    "\n",
    "# Fit encoder on filtered corpus\n",
    "encoder.fit(filtered_corpus)\n",
    "encoder.dump(\"document.json\")\n",
    "\n",
    "retriever = PineconeHybridSearchRetriever(\n",
    "    index=index, \n",
    "    sparse_encoder=encoder, \n",
    "    embeddings=embeddings , \n",
    "    top_k=30 , \n",
    "    alpha = 0.8)\n",
    "# Now safely add texts\n",
    "retriever.add_texts(texts=filtered_corpus)\n"
   ]
  }
 ],
 "metadata": {
  "kernelspec": {
   "display_name": "Python 3",
   "language": "python",
   "name": "python3"
  },
  "language_info": {
   "codemirror_mode": {
    "name": "ipython",
    "version": 3
   },
   "file_extension": ".py",
   "mimetype": "text/x-python",
   "name": "python",
   "nbconvert_exporter": "python",
   "pygments_lexer": "ipython3",
   "version": "3.12.3"
  }
 },
 "nbformat": 4,
 "nbformat_minor": 2
}
